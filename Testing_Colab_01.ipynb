{
  "nbformat": 4,
  "nbformat_minor": 0,
  "metadata": {
    "colab": {
      "provenance": [],
      "toc_visible": true,
      "authorship_tag": "ABX9TyM8i0XBuVM3pfw8SEtiuWcm",
      "include_colab_link": true
    },
    "kernelspec": {
      "name": "python3",
      "display_name": "Python 3"
    },
    "language_info": {
      "name": "python"
    }
  },
  "cells": [
    {
      "cell_type": "markdown",
      "metadata": {
        "id": "view-in-github",
        "colab_type": "text"
      },
      "source": [
        "<a href=\"https://colab.research.google.com/github/jordiba90/Testing_Colab/blob/master/Testing_Colab_01.ipynb\" target=\"_parent\"><img src=\"https://colab.research.google.com/assets/colab-badge.svg\" alt=\"Open In Colab\"/></a>"
      ]
    },
    {
      "cell_type": "code",
      "execution_count": null,
      "metadata": {
        "id": "lVo5cKXHWVVx",
        "cellView": "form"
      },
      "outputs": [],
      "source": [
        "# @title Import Packages\n",
        "import pathlib\n",
        "import textwrap\n",
        "\n",
        "import google.generativeai as genai\n",
        "\n",
        "# Used to securely store your API key\n",
        "from google.colab import userdata\n",
        "\n",
        "from IPython.display import display\n",
        "from IPython.display import Markdown\n",
        "\n",
        "\n",
        "def to_markdown(text):\n",
        "  text = text.replace('•', '  *')\n",
        "  return Markdown(textwrap.indent(text, '> ', predicate=lambda _: True))"
      ]
    },
    {
      "cell_type": "code",
      "source": [
        "# @title Setup your API key\n",
        "from google.colab import userdata\n",
        "userdata.get('gemini_token')\n",
        "\n",
        "GOOGLE_API_KEY = userdata.get('gemini_token')\n",
        "genai.configure(api_key=GOOGLE_API_KEY)"
      ],
      "metadata": {
        "id": "QDtqnfIIXVMS",
        "cellView": "form"
      },
      "execution_count": null,
      "outputs": []
    },
    {
      "cell_type": "code",
      "source": [
        "# @title List Models\n",
        "for m in genai.list_models():\n",
        "  if 'generateContent' in m.supported_generation_methods:\n",
        "    print(m.name)"
      ],
      "metadata": {
        "colab": {
          "base_uri": "https://localhost:8080/",
          "height": 52
        },
        "id": "um7iovNGYJcA",
        "outputId": "30421bd5-c102-41f8-d86b-7311cd05a8e6",
        "cellView": "form"
      },
      "execution_count": null,
      "outputs": [
        {
          "output_type": "stream",
          "name": "stdout",
          "text": [
            "models/gemini-pro\n",
            "models/gemini-pro-vision\n"
          ]
        }
      ]
    },
    {
      "cell_type": "code",
      "source": [
        "# @title Generate text from text inputs\n",
        "model = genai.GenerativeModel('gemini-pro')"
      ],
      "metadata": {
        "id": "sNoMKWdSZsE_"
      },
      "execution_count": 16,
      "outputs": []
    },
    {
      "cell_type": "code",
      "source": [
        "%%time\n",
        "response = model.generate_content(\"What is Google Collab?\")\n",
        "to_markdown(response.text)"
      ],
      "metadata": {
        "colab": {
          "base_uri": "https://localhost:8080/",
          "height": 610
        },
        "id": "V7ZDd4iUZw-m",
        "outputId": "e194d34f-db29-491e-9095-a8d2b43a6f26"
      },
      "execution_count": 25,
      "outputs": [
        {
          "output_type": "stream",
          "name": "stdout",
          "text": [
            "CPU times: user 86.1 ms, sys: 17 ms, total: 103 ms\n",
            "Wall time: 8.49 s\n"
          ]
        },
        {
          "output_type": "execute_result",
          "data": {
            "text/plain": [
              "<IPython.core.display.Markdown object>"
            ],
            "text/markdown": "> Google Colaboratory, also known as Google Collab, is a cloud-based Jupyter notebook environment that allows users to write and execute Python code. It is particularly useful for machine learning tasks, as it provides access to powerful computing resources and a variety of libraries and tools.\n> \n> Key features of Google Collab include:\n> \n> 1. **Free to Use:** Collab is free to use for personal and educational purposes, making it accessible to a wide range of users.\n> \n> 2. **Cloud-Based:** Collab runs in the cloud, eliminating the need for users to install and maintain software on their local machines. This makes it accessible from any device with an internet connection.\n> \n> 3. **Jupyter Notebooks:** Collab uses Jupyter notebooks, a popular environment for interactive data analysis and machine learning. Notebooks allow users to combine code, text, equations, and visualizations in a single document.\n> \n> 4. **Powerful Computing Resources:** Collab provides access to powerful computing resources, including GPUs and TPUs, which are essential for training machine learning models efficiently.\n> \n> 5. **Pre-Installed Libraries and Tools:** Collab comes pre-installed with a variety of popular libraries and tools for machine learning, including TensorFlow, Keras, PyTorch, and scikit-learn.\n> \n> 6. **Collaboration:** Collab allows users to collaborate on notebooks with others in real time. This feature is particularly useful for team projects and teaching purposes.\n> \n> 7. **Version Control:** Collab integrates with Google Drive, allowing users to easily save, version control, and share their notebooks.\n> \n> 8. **GPU and TPU Support:** Collab provides access to GPUs (Graphics Processing Units) and TPUs (Tensor Processing Units) for accelerated computing, making it ideal for training large machine learning models.\n> \n> 9. **Code Completion and Syntax Highlighting:** Collab offers code completion and syntax highlighting for Python code, making it easier to write and debug code.\n> \n> 10. **Interactive Visualizations:** Collab allows users to create and display interactive visualizations, such as plots and charts, within the notebook environment.\n> \n> 11. **Open Source:** The source code for Collab is open source and available on GitHub, allowing users to contribute to its development and create custom extensions.\n> \n> Overall, Google Collab is a powerful and user-friendly platform for machine learning and data analysis. Its cloud-based nature, pre-installed libraries, and access to powerful computing resources make it an attractive option for a wide range of users, from beginners to experienced professionals."
          },
          "metadata": {},
          "execution_count": 25
        }
      ]
    },
    {
      "cell_type": "code",
      "source": [
        "response.prompt_feedback"
      ],
      "metadata": {
        "id": "7iX9rCN2dOB8"
      },
      "execution_count": null,
      "outputs": []
    }
  ]
}